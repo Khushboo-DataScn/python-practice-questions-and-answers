{
 "cells": [
  {
   "cell_type": "code",
   "execution_count": 14,
   "metadata": {},
   "outputs": [
    {
     "name": "stdout",
     "output_type": "stream",
     "text": [
      "Enter a string:\n",
      "hello how are you doing\n",
      "h ll  h w  r  y   d  ng\n"
     ]
    }
   ],
   "source": [
    "#ques10\n",
    "#Write a program to accept a string from user , delete all vowels from the string and display the result.\n",
    "str1=input(\"Enter a string:\\n\")\n",
    "str2=(\"a\",\"e\",\"i\",\"o\",\"u\")\n",
    "for items in str2:\n",
    "    str1=(str1.replace(items,\" \"))\n",
    "print(str1)"
   ]
  },
  {
   "cell_type": "code",
   "execution_count": 15,
   "metadata": {},
   "outputs": [
    {
     "name": "stdout",
     "output_type": "stream",
     "text": [
      "Enter a string:\n",
      "hello how are you doing\n",
      "Enter a character to find its occurance:o\n",
      "4\n"
     ]
    }
   ],
   "source": [
    "#ques11\n",
    "Write a program to accept a string value from the user and accept a char value from the user and and find out the total occurrence of char value in the string value.\n",
    "occur=0\n",
    "strng=input(\"Enter a string:\\n\")\n",
    "chara=input(\"Enter a character to find its occurance:\")\n",
    "for i in strng:\n",
    "    if i==chara:\n",
    "        occur=occur+1\n",
    "print(occur)\n"
   ]
  },
  {
   "cell_type": "code",
   "execution_count": 41,
   "metadata": {},
   "outputs": [
    {
     "name": "stdout",
     "output_type": "stream",
     "text": [
      "Enter sentence: I am a python programmer\n",
      "I ma a nohtyp remmargorp "
     ]
    }
   ],
   "source": [
    "#ques12\n",
    "#Write a  program to accept a sentence from the user and reverse its each word.\n",
    "sent=input(\"Enter sentence: \")\n",
    "x=sent.split()\n",
    "for i in (x):\n",
    "    print(\"\".join(reversed(i)),end=\" \")\n"
   ]
  },
  {
   "cell_type": "code",
   "execution_count": 58,
   "metadata": {},
   "outputs": [
    {
     "name": "stdout",
     "output_type": "stream",
     "text": [
      "how many numbers do u want to enter? 5\n",
      "Enter number 1\n",
      "Enter number 2\n",
      "Enter number 1\n",
      "Enter number 2\n",
      "Enter number 1\n",
      "0 occured 0times in num\n"
     ]
    }
   ],
   "source": [
    "#ques14\n",
    "#Write a program to accept ‘n’ numbers from user and store these numbers into an array and count the number of occurrences of each number.\n",
    "num=[]\n",
    "n=int(input(\"how many numbers do u want to enter? \"))\n",
    "for i in range(n):\n",
    "    num1=input(\"Enter number \")\n",
    "    num.append(num1)\n",
    "def countx(num,x):\n",
    "    for x in range(1,9):\n",
    "        return(num.count(x))\n",
    "print(f\"{x} occured {countx(num,x)}times in num\")"
   ]
  },
  {
   "cell_type": "code",
   "execution_count": 64,
   "metadata": {},
   "outputs": [
    {
     "name": "stdout",
     "output_type": "stream",
     "text": [
      "enter characterh\n",
      "ASCII value of h= 104\n",
      "next character = i\n",
      "previous character = g\n"
     ]
    }
   ],
   "source": [
    "#Question 16 \n",
    "#Write a Program to Accept character and display its Ascii value and its Next and Previous Character\n",
    "character= input(\"enter character\")\n",
    "print(f\"ASCII value of {character}=\",ord(character))\n",
    "nextVal=(ord(character))+1\n",
    "print(\"next character =\",chr(nextVal))\n",
    "preVal=(ord(character))-1\n",
    "print(\"previous character =\",chr(preVal))"
   ]
  },
  {
   "cell_type": "code",
   "execution_count": 8,
   "metadata": {},
   "outputs": [
    {
     "name": "stdout",
     "output_type": "stream",
     "text": [
      "How many numbers would you enter5\n",
      "Enter number: 11\n",
      "Enter number: 7\n",
      "Enter number: 15\n",
      "Enter number: 8\n",
      "Enter number: 6\n",
      "[11, 11, 11, 11, 11, 11, 11, 11, 7, 7, 7, 7, 15]\n"
     ]
    }
   ],
   "source": [
    "#question 17\n",
    "#Write a Program to accept  ‘n’ numbers and store all prime numbers in an array and display the array.\n",
    "o=[]\n",
    "n= int(input(\"How many numbers would you enter\"))\n",
    "for i in range(n):\n",
    "    flag=True\n",
    "    m=int(input(\"Enter number: \"))\n",
    "    for j in range(2,m-1):\n",
    "        if m%j==0:\n",
    "            flag==False\n",
    "            break\n",
    "        if flag==True:\n",
    "            o.append(m)\n",
    "print(o)"
   ]
  },
  {
   "cell_type": "code",
   "execution_count": 6,
   "metadata": {},
   "outputs": [
    {
     "ename": "KeyboardInterrupt",
     "evalue": "Interrupted by user",
     "output_type": "error",
     "traceback": [
      "\u001b[1;31m---------------------------------------------------------------------------\u001b[0m",
      "\u001b[1;31mKeyboardInterrupt\u001b[0m                         Traceback (most recent call last)",
      "\u001b[1;32m<ipython-input-6-79d6f40ffc65>\u001b[0m in \u001b[0;36m<module>\u001b[1;34m\u001b[0m\n\u001b[0;32m      2\u001b[0m \u001b[1;31m#Write a  program to accept three sides of a triangle as input and print whether the Trangle is valid or Not.\u001b[0m\u001b[1;33m\u001b[0m\u001b[1;33m\u001b[0m\u001b[1;33m\u001b[0m\u001b[0m\n\u001b[0;32m      3\u001b[0m \u001b[1;31m#(The trangle is valid, if sum of each of the two sides is greater then the third side.)\u001b[0m\u001b[1;33m\u001b[0m\u001b[1;33m\u001b[0m\u001b[1;33m\u001b[0m\u001b[0m\n\u001b[1;32m----> 4\u001b[1;33m \u001b[0mside1\u001b[0m\u001b[1;33m=\u001b[0m\u001b[0mint\u001b[0m\u001b[1;33m(\u001b[0m\u001b[0minput\u001b[0m\u001b[1;33m(\u001b[0m\u001b[1;34m\"Enter side length\"\u001b[0m\u001b[1;33m)\u001b[0m\u001b[1;33m)\u001b[0m\u001b[1;33m\u001b[0m\u001b[1;33m\u001b[0m\u001b[0m\n\u001b[0m\u001b[0;32m      5\u001b[0m \u001b[0mside2\u001b[0m\u001b[1;33m=\u001b[0m\u001b[0mint\u001b[0m\u001b[1;33m(\u001b[0m\u001b[0minput\u001b[0m\u001b[1;33m(\u001b[0m\u001b[1;34m\"Enter side length\"\u001b[0m\u001b[1;33m)\u001b[0m\u001b[1;33m)\u001b[0m\u001b[1;33m\u001b[0m\u001b[1;33m\u001b[0m\u001b[0m\n\u001b[0;32m      6\u001b[0m \u001b[0mside3\u001b[0m\u001b[1;33m=\u001b[0m\u001b[0mint\u001b[0m\u001b[1;33m(\u001b[0m\u001b[0minput\u001b[0m\u001b[1;33m(\u001b[0m\u001b[1;34m\"Enter side length\"\u001b[0m\u001b[1;33m)\u001b[0m\u001b[1;33m)\u001b[0m\u001b[1;33m\u001b[0m\u001b[1;33m\u001b[0m\u001b[0m\n",
      "\u001b[1;32mD:\\anaconda\\lib\\site-packages\\ipykernel\\kernelbase.py\u001b[0m in \u001b[0;36mraw_input\u001b[1;34m(self, prompt)\u001b[0m\n\u001b[0;32m    858\u001b[0m                 \u001b[1;34m\"raw_input was called, but this frontend does not support input requests.\"\u001b[0m\u001b[1;33m\u001b[0m\u001b[1;33m\u001b[0m\u001b[0m\n\u001b[0;32m    859\u001b[0m             )\n\u001b[1;32m--> 860\u001b[1;33m         return self._input_request(str(prompt),\n\u001b[0m\u001b[0;32m    861\u001b[0m             \u001b[0mself\u001b[0m\u001b[1;33m.\u001b[0m\u001b[0m_parent_ident\u001b[0m\u001b[1;33m,\u001b[0m\u001b[1;33m\u001b[0m\u001b[1;33m\u001b[0m\u001b[0m\n\u001b[0;32m    862\u001b[0m             \u001b[0mself\u001b[0m\u001b[1;33m.\u001b[0m\u001b[0m_parent_header\u001b[0m\u001b[1;33m,\u001b[0m\u001b[1;33m\u001b[0m\u001b[1;33m\u001b[0m\u001b[0m\n",
      "\u001b[1;32mD:\\anaconda\\lib\\site-packages\\ipykernel\\kernelbase.py\u001b[0m in \u001b[0;36m_input_request\u001b[1;34m(self, prompt, ident, parent, password)\u001b[0m\n\u001b[0;32m    902\u001b[0m             \u001b[1;32mexcept\u001b[0m \u001b[0mKeyboardInterrupt\u001b[0m\u001b[1;33m:\u001b[0m\u001b[1;33m\u001b[0m\u001b[1;33m\u001b[0m\u001b[0m\n\u001b[0;32m    903\u001b[0m                 \u001b[1;31m# re-raise KeyboardInterrupt, to truncate traceback\u001b[0m\u001b[1;33m\u001b[0m\u001b[1;33m\u001b[0m\u001b[1;33m\u001b[0m\u001b[0m\n\u001b[1;32m--> 904\u001b[1;33m                 \u001b[1;32mraise\u001b[0m \u001b[0mKeyboardInterrupt\u001b[0m\u001b[1;33m(\u001b[0m\u001b[1;34m\"Interrupted by user\"\u001b[0m\u001b[1;33m)\u001b[0m \u001b[1;32mfrom\u001b[0m \u001b[1;32mNone\u001b[0m\u001b[1;33m\u001b[0m\u001b[1;33m\u001b[0m\u001b[0m\n\u001b[0m\u001b[0;32m    905\u001b[0m             \u001b[1;32mexcept\u001b[0m \u001b[0mException\u001b[0m \u001b[1;32mas\u001b[0m \u001b[0me\u001b[0m\u001b[1;33m:\u001b[0m\u001b[1;33m\u001b[0m\u001b[1;33m\u001b[0m\u001b[0m\n\u001b[0;32m    906\u001b[0m                 \u001b[0mself\u001b[0m\u001b[1;33m.\u001b[0m\u001b[0mlog\u001b[0m\u001b[1;33m.\u001b[0m\u001b[0mwarning\u001b[0m\u001b[1;33m(\u001b[0m\u001b[1;34m\"Invalid Message:\"\u001b[0m\u001b[1;33m,\u001b[0m \u001b[0mexc_info\u001b[0m\u001b[1;33m=\u001b[0m\u001b[1;32mTrue\u001b[0m\u001b[1;33m)\u001b[0m\u001b[1;33m\u001b[0m\u001b[1;33m\u001b[0m\u001b[0m\n",
      "\u001b[1;31mKeyboardInterrupt\u001b[0m: Interrupted by user"
     ]
    }
   ],
   "source": [
    "#ques19\n",
    "#Write a  program to accept three sides of a triangle as input and print whether the Trangle is valid or Not.\n",
    "#(The trangle is valid, if sum of each of the two sides is greater then the third side.)\n",
    "side1=int(input(\"Enter side length\"))\n",
    "side2=int(input(\"Enter side length\"))\n",
    "side3=int(input(\"Enter side length\"))\n",
    "if ((side1+side2)>side3):\n",
    "    if ((side2+side3)>side1):\n",
    "        if ((side1+side3)>side2):\n",
    "            print(\"Its a valid triange\")\n",
    "else:\n",
    "    print(\"Its not a valid triangle\")"
   ]
  },
  {
   "cell_type": "code",
   "execution_count": 93,
   "metadata": {},
   "outputs": [
    {
     "name": "stdout",
     "output_type": "stream",
     "text": [
      "Enter a string: an apple a day keeps the doctor away\n",
      "*n *pple * d*y keeps the doctor *w*y\n"
     ]
    }
   ],
   "source": [
    "#ques20\n",
    "#Write a program to accept string from the user and replace all occurrences of character ‘a’ by ‘*’ symbol.\n",
    "str1=input(\"Enter a string: \")\n",
    "str1=str1.replace(\"a\",\"*\")\n",
    "print(str1)\n"
   ]
  },
  {
   "cell_type": "code",
   "execution_count": 151,
   "metadata": {},
   "outputs": [
    {
     "name": "stdout",
     "output_type": "stream",
     "text": [
      "total marks = 260\n",
      "avg marks = 86.66666666666667\n",
      "total marks = 202\n",
      "avg marks = 67.33333333333333\n",
      "total marks = 273\n",
      "avg marks = 91.0\n",
      "total marks = 135\n",
      "avg marks = 45.0\n",
      "total marks = 296\n",
      "avg marks = 98.66666666666667\n"
     ]
    }
   ],
   "source": [
    "#ques21\n",
    "#Write a  program to create student structure having fields roll_no, stud_name, mark1, mark2,mark3. Calculate the total and average of marks and arrange the records in  decending order of marks.\n",
    "from operator import attrgetter\n",
    "class stu_structure:\n",
    "    def __init__(self,roll_no,stud_name,marks1,marks2,marks3):\n",
    "        self.roll_no=roll_no\n",
    "        self.stud_name=stud_name\n",
    "        self.marks1=marks1\n",
    "        self.marks2=marks2\n",
    "        self.marks3=marks3\n",
    "        \n",
    "    def total(self):\n",
    "        return(self.marks1+self.marks2+self.marks3)\n",
    "    \n",
    "    def avg_marks(self):\n",
    "        return ((self.marks1+self.marks2+self.marks3)/3)\n",
    "    \n",
    "students=[stu_structure(111,\"khush\",77,88,95),\n",
    "          stu_structure(112,\"neha\",50,65,87),\n",
    "          stu_structure(113,\"isha\",76,99,98),\n",
    "          stu_structure(114,\"sanjana\",50,45,40),\n",
    "          stu_structure(115,\"vidhi\",98,99,99)]\n",
    "\n",
    "\n",
    "for i in students:\n",
    "    print(\"total marks =\",i.total())\n",
    "    print(\"avg marks =\",i.avg_marks())\n",
    "   \n"
   ]
  },
  {
   "cell_type": "code",
   "execution_count": 230,
   "metadata": {},
   "outputs": [
    {
     "name": "stdout",
     "output_type": "stream",
     "text": [
      "[Book(name='Math', author='George Harr', publisher='Sultan Publications', accession=2, cost=1500)]\n",
      "[Book(name='Math', author='George Harr', publisher='Sultan Publications', accession=2, cost=1500), Book(name='English', author='James Odd', publisher='S.Chand', accession=3, cost=1000)]\n",
      "[Book(name='Geometry', author='Jeff Potter', publisher='S.Chand', accession=1, cost=220), Book(name='Math', author='George Harr', publisher='Sultan Publications', accession=2, cost=1500), Book(name='English', author='James Odd', publisher='S.Chand', accession=3, cost=1000), Book(name='Physics', author='Jeff Potter', publisher='Enigma', accession=4, cost=180)]\n"
     ]
    }
   ],
   "source": [
    "#ques22\n",
    "#Write a program to accept Book Details o f’n’ books as book_title,author, publisher and cost. Assign the accession number to each book in increasing order Display thease details as .\n",
    "#--Books of a specific author\n",
    "#--Books by a specific publisher\n",
    "#--All Books costing rs 500 and above.\n",
    "#All Books.\n",
    "from collections import namedtuple\n",
    "\n",
    "class Library(object):   \n",
    "    \n",
    "    def __init__(self):\n",
    "        self.Book_title=[]\n",
    "       \n",
    "    def addBook(self, Book):\n",
    "        self.Book_title.append(Book)\n",
    "    \n",
    "        \n",
    "    def searchBookAuthor(self, author):\n",
    "        written_by_author = []\n",
    "        for Book in self.Book_title:\n",
    "            if Book.author == author:\n",
    "                written_by_author.append(Book)\n",
    "        return written_by_author\n",
    "    \n",
    "    def searchBookPublisher(self, publisher):\n",
    "        Book_publisher = []\n",
    "        for Book in self.Book_title:\n",
    "            if Book.publisher == publisher:\n",
    "                Book_publisher.append(Book)\n",
    "        return Book_publisher\n",
    "    \n",
    "    def searchOver500(self):\n",
    "        Books_over_500 = []\n",
    "        for Book in self.Book_title:\n",
    "            if Book.cost > 500:\n",
    "                Books_over_500.append(Book)\n",
    "        return Books_over_500\n",
    "    \n",
    "Book = namedtuple('Book', 'name author publisher accession cost')\n",
    "\n",
    "library = Library()\n",
    "library.addBook(Book('Geometry', 'Jeff Potter', 'S.Chand',1, 220))\n",
    "library.addBook(Book('Math', 'George Harr', 'Sultan Publications',2, 1500))\n",
    "library.addBook(Book('English', 'James Odd', 'S.Chand',3, 1000))\n",
    "library.addBook(Book('Physics', 'Jeff Potter', 'Enigma',4, 180))\n",
    "print(library.searchBookAuthor('George Harr'))\n",
    "print(library.searchOver500())\n",
    "print(library.Book_title)"
   ]
  },
  {
   "cell_type": "code",
   "execution_count": 254,
   "metadata": {},
   "outputs": [
    {
     "name": "stdout",
     "output_type": "stream",
     "text": [
      "What do you want to perform?\n",
      "              (1)Calculate length of string.\n",
      "              (2)Reverse a given string.\n",
      "              (3)Concatenation of string to another.\n",
      "              (4)Copy one string into another.\n",
      "              (5)Compare two string.\n",
      "            \n",
      "            5\n",
      "Enter the first string you want to comarekhushboo\n",
      "Enter the second string you want to comparesarda\n",
      "Both the strings are not same/equal.\n"
     ]
    }
   ],
   "source": [
    "#ques23\n",
    "#Write a menu driven program  to perform the following operations on string using standard library functions\n",
    "#--Calculate length of string\n",
    "#--Reverse a given string\n",
    "#--Concatenation of one string to another\n",
    "#--Copy one String into another\n",
    "#--Compare two string.\n",
    "func=int(input(\"\"\"What do you want to perform?\n",
    "              (1)Calculate length of string.\n",
    "              (2)Reverse a given string.\n",
    "              (3)Concatenation of string to another.\n",
    "              (4)Copy one string into another.\n",
    "              (5)Compare two string.\n",
    "            \n",
    "            \"\"\"))\n",
    "if func==1:\n",
    "    str1=input(\"Enter the string to calculate the length:\")\n",
    "    strLen=len(str1)\n",
    "    print(f\"The length of the string {str1} is {strLen}\")\n",
    "    \n",
    "if func==2:\n",
    "    str1=input(\"Enter the string that youn want to reverse:\")\n",
    "    str1reverse=(\"\".join(reversed(str1)))\n",
    "    print(str1reverse)\n",
    "    \n",
    "if func==3:\n",
    "    str1=input(\"Enter the string 1\")\n",
    "    str2=input(\"Enter the string 2\")\n",
    "    concatenated=(str1+\" \"+str2)\n",
    "    print(concatenated)\n",
    "    \n",
    "if func==4:\n",
    "    str1=input(\"Enter the string you want to perform function on:\")\n",
    "    str2=\" \"\n",
    "    for i in range(len(str1)):\n",
    "        str2=str2+str1[i]\n",
    "    print(\"Original string= \", str1)\n",
    "    print(\"Copied string= \", str2)\n",
    "\n",
    "if func==5:\n",
    "    str1=input(\"Enter the first string you want to comare\")\n",
    "    str2=input(\"Enter the second string you want to compare\")\n",
    "    if str1==str2:\n",
    "        print(\"Both the strings are equal and same.\")\n",
    "    elif sorted(str1) == sorted(str2):\n",
    "         print(\"Both the strings are equal and same.\")\n",
    "    else:\n",
    "        print(\"Both the strings are not same/equal.\")"
   ]
  },
  {
   "cell_type": "code",
   "execution_count": 256,
   "metadata": {},
   "outputs": [
    {
     "name": "stdout",
     "output_type": "stream",
     "text": [
      "Enter number:6\n",
      "6 x 1 = 6\n",
      "6 x 2 = 12\n",
      "6 x 3 = 18\n",
      "6 x 4 = 24\n",
      "6 x 5 = 30\n",
      "6 x 6 = 36\n",
      "6 x 7 = 42\n",
      "6 x 8 = 48\n",
      "6 x 9 = 54\n",
      "6 x 10 = 60\n"
     ]
    }
   ],
   "source": [
    "#ques24\n",
    "#Write a program to display the multiplication table of a given number.\n",
    "num=int(input(\"Enter number:\"))\n",
    "for i in range(1,11):\n",
    "    print(f\"{num} x {i} = {num*i}\")"
   ]
  },
  {
   "cell_type": "code",
   "execution_count": 264,
   "metadata": {},
   "outputs": [
    {
     "name": "stdout",
     "output_type": "stream",
     "text": [
      "Enter character: h\n",
      "Its a alphabet\n"
     ]
    }
   ],
   "source": [
    "#ques25\n",
    "#Write a  program to display whether the input character is a digit or alphabet.\n",
    "character=input(\"Enter character: \")\n",
    "if character.isalpha() == True: \n",
    "    print(\"Its a alphabet\")\n",
    "elif character.isnumeric() == True:\n",
    "    print(\"Its a digit\")"
   ]
  },
  {
   "cell_type": "code",
   "execution_count": 266,
   "metadata": {},
   "outputs": [
    {
     "name": "stdout",
     "output_type": "stream",
     "text": [
      "Enter salary: \n",
      "6000\n",
      "Gross Salary=  15900.0\n"
     ]
    }
   ],
   "source": [
    "#ques26\n",
    "#Write a  program to accept basic salary from user. If basic salary>=5000 then hra=15% and da=150% of basic salary.\n",
    "#If basic salary<5000 then hra=10% and da=110% of basic salary . \n",
    "#Display the Gross salary.\n",
    "salary=int(input(\"Enter salary: \\n\"))\n",
    "if salary>5000:\n",
    "    gross_sal=((.15*salary)+(1.5*salary)+salary)\n",
    "if salary<5000:\n",
    "    gross_sal=((.1*salary)+(1.1*salary)+salary)\n",
    "print(\"Gross Salary= \",gross_sal)"
   ]
  },
  {
   "cell_type": "code",
   "execution_count": null,
   "metadata": {},
   "outputs": [],
   "source": [
    "question let to done= 13,15,17,18, 21(sort part)"
   ]
  },
  {
   "cell_type": "code",
   "execution_count": null,
   "metadata": {},
   "outputs": [],
   "source": []
  }
 ],
 "metadata": {
  "kernelspec": {
   "display_name": "Python 3",
   "language": "python",
   "name": "python3"
  },
  "language_info": {
   "codemirror_mode": {
    "name": "ipython",
    "version": 3
   },
   "file_extension": ".py",
   "mimetype": "text/x-python",
   "name": "python",
   "nbconvert_exporter": "python",
   "pygments_lexer": "ipython3",
   "version": "3.8.5"
  }
 },
 "nbformat": 4,
 "nbformat_minor": 4
}
