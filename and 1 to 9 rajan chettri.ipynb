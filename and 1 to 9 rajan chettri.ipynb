{
 "cells": [
  {
   "cell_type": "code",
   "execution_count": 51,
   "metadata": {},
   "outputs": [
    {
     "name": "stdout",
     "output_type": "stream",
     "text": [
      "enter number:9087\n",
      "zeros=1 even=2 odd=2\n"
     ]
    }
   ],
   "source": [
    "#Ques:1\n",
    "#Write A program to accept  Four digit number from user and count zero , odd and even digits from the entered number.\n",
    "num= input(\"enter number:\")\n",
    "z=0\n",
    "e=0\n",
    "o=0\n",
    "num1=[int(i) for i in str(num)]\n",
    "for j in num1:\n",
    "    if j==0:\n",
    "        z=z+1\n",
    "    if j%2==0:\n",
    "        e=e+1\n",
    "    if j%2!=0:\n",
    "        o=o+1\n",
    "    \n",
    "    \n",
    "print(f\"zeros={z} even={e} odd={o}\")\n"
   ]
  },
  {
   "cell_type": "code",
   "execution_count": 53,
   "metadata": {},
   "outputs": [
    {
     "name": "stdout",
     "output_type": "stream",
     "text": [
      "How amny numbers do you want to enter?6\n",
      "Enter the number:3\n",
      "Enter the number:4\n",
      "Enter the number:8\n",
      "Enter the number:6\n",
      "Enter the number:5\n",
      "Enter the number:2\n",
      "8\n",
      "2\n"
     ]
    }
   ],
   "source": [
    "#ques 2\n",
    "#Write a   program to accept ‘n’ numbers from user , store these numbers into an array. Find out maximum and minimum number from an Array.\n",
    "arr=[]\n",
    "num=int(input(\"How amny numbers do you want to enter?\"))\n",
    "for i in range(num):\n",
    "    n=int(input(\"Enter the number:\"))\n",
    "    arr.append(n)\n",
    "print(max(arr))\n",
    "print(min(arr))"
   ]
  },
  {
   "cell_type": "code",
   "execution_count": 1,
   "metadata": {},
   "outputs": [
    {
     "name": "stdout",
     "output_type": "stream",
     "text": [
      "What do u want to do?\n",
      "      (1)Add book information\n",
      "      (2)Display book information\n",
      "      (3)List all books of given author\n",
      "      (4)List the count of books in the library\n",
      "      (5)Exit\n",
      "1\n",
      "Author namea\n",
      "Book nameb\n",
      "do you want to continue? y/nn\n",
      "What do u want to do?\n",
      "        (1)Add book information\n",
      "        (2)Display book information\n",
      "        (3)List all books of given author\n",
      "        (4)List the count of books in the library\n",
      "        (5)Exit\n",
      "5\n",
      "Thanks for using our program\n"
     ]
    }
   ],
   "source": [
    "#ques3\n",
    "#library menu driven program\n",
    "#Write a menu driven program  that shows the working of a library. The menu option should be \n",
    "#--ADD BOOK INFORMATION\n",
    "#--DISPLAY BOOK INFORMATION\n",
    "#--LIST ALL BOOKS OF GIVEN AUTHOR \n",
    "#--LIST THE COUNT OF BOOKS IN THE LIBRARY\n",
    "#--EXIT\n",
    "\n",
    "library={}\n",
    "ch=\"y\"\n",
    "n =int(input(\"\"\"What do u want to do?\n",
    "      (1)Add book information\n",
    "      (2)Display book information\n",
    "      (3)List all books of given author\n",
    "      (4)List the count of books in the library\n",
    "      (5)Exit\\n\"\"\"))\n",
    "while ch==\"y\":\n",
    "    if n==1:\n",
    "        Author_name=input(\"Author name\")\n",
    "        Book_name= input(\"Book name\")\n",
    "        library.update({Author_name:Book_name})\n",
    "        ch=input(\"do you want to continue? y/n\")\n",
    "        n =int(input(\"\"\"What do u want to do?\n",
    "        (1)Add book information\n",
    "        (2)Display book information\n",
    "        (3)List all books of given author\n",
    "        (4)List the count of books in the library\n",
    "        (5)Exit\\n\"\"\"))\n",
    "    if n==2:\n",
    "        print(\"Book name= \",library.keys(),\"Author name=\",library.values())\n",
    "        ch=input(\"do you want to continue? y/n\")\n",
    "        n =int(input(\"\"\"What do u want to do?\n",
    "        (1)Add book information\n",
    "        (2)Display book information\n",
    "        (3)List all books of given author\n",
    "        (4)List the count of books in the library\n",
    "        (5)Exit\\n\"\"\"))\n",
    "    if n==3:\n",
    "        book_of_author=input(\"author name=\")\n",
    "        print(library.get(book_of_author))\n",
    "        ch=input(\"do you want to continue? y/n\")\n",
    "        n =int(input(\"\"\"What do u want to do?\n",
    "        (1)Add book information\n",
    "        (2)Display book information\n",
    "        (3)List all books of given author\n",
    "        (4)List the count of books in the library\n",
    "        (5)Exit\\n\"\"\"))\n",
    "    if n==4:\n",
    "        print(\"Number of books in the library =\",len(library))\n",
    "        ch=input(\"do you want to continue? y/n\")\n",
    "        n =int(input(\"\"\"What do u want to do?\n",
    "       (1)Add book information\n",
    "       (2)Display book information\n",
    "       (3)List all books of given author\n",
    "       (4)List the count of books in the library\n",
    "       (5)Exit\\n\"\"\"))\n",
    "\n",
    "    if n==5:\n",
    "        print(\"Thanks for using our program\")"
   ]
  },
  {
   "cell_type": "code",
   "execution_count": 57,
   "metadata": {},
   "outputs": [
    {
     "name": "stdout",
     "output_type": "stream",
     "text": [
      "How amny numbers do you want to enter?6\n",
      "Enter the number:7\n",
      "Enter the number:5\n",
      "Enter the number:6\n",
      "Enter the number:9\n",
      "Enter the number:4\n",
      "Enter the number:8\n",
      "[4, 5, 6, 7, 8, 9]\n"
     ]
    }
   ],
   "source": [
    "#ques4\n",
    "#Write a  program to accept ‘n’ numbers from user , store these numbers into an array and sort the numbers of an array using function.\n",
    "arr=[]\n",
    "num=int(input(\"How amny numbers do you want to enter?\"))\n",
    "for i in range(num):\n",
    "    n=int(input(\"Enter the number:\"))\n",
    "    arr.append(n)\n",
    "print(sorted(arr))"
   ]
  },
  {
   "cell_type": "code",
   "execution_count": 54,
   "metadata": {
    "scrolled": true
   },
   "outputs": [
    {
     "name": "stdout",
     "output_type": "stream",
     "text": [
      "account no.=123\n",
      "                           name= khushboo\n",
      "                           balance= 99\n",
      "None\n",
      "account no.=122\n",
      "                           name= prachi\n",
      "                           balance= 88\n",
      "None\n"
     ]
    }
   ],
   "source": [
    "#ques5\n",
    "#Write a program to accept customer details such as : Account_no, Name, Balance in Acount, Assume Maximum 20 Customer In the bank. Write a function to print the account no and name of each customer with balance below rs 100.\n",
    "class Bank_Account:\n",
    "    def __init__(self,account_no, name, balance):\n",
    "        self.account_no = account_no\n",
    "        self.name = name\n",
    "        self.balance = balance\n",
    "\n",
    "    def balance_less(self):\n",
    "        if self.balance < 100:\n",
    "            return (f\"\"\"account no.={self.account_no}\n",
    "                           name= {self.name}\n",
    "                           balance= {self.balance}\"\"\")\n",
    "\n",
    "\n",
    "accounts = [Bank_Account(123, \"khushboo\", 99),\n",
    "            Bank_Account(124, \"harsh\", 200),\n",
    "            Bank_Account(122, \"prachi\", 88),\n",
    "            Bank_Account(125, \"sanjana\", 120)]\n",
    "\n",
    "for bank in accounts:\n",
    "    print(bank.balance_less())"
   ]
  },
  {
   "cell_type": "code",
   "execution_count": 58,
   "metadata": {},
   "outputs": [
    {
     "name": "stdout",
     "output_type": "stream",
     "text": [
      "Enter name:\n",
      "khushboo\n",
      "Enter name:\n",
      "harsh\n",
      "Enter name:\n",
      "sanjana\n",
      "Enter name:\n",
      "priyanka\n",
      "Enter name:\n",
      "neha\n",
      "['harsh', 'khushboo', 'neha', 'priyanka', 'sanjana']\n"
     ]
    }
   ],
   "source": [
    "#ques6\n",
    "#Write a program to accept 5 names from user and store these names into an array sort these array element in alphabetical order.\n",
    "arr=[]\n",
    "for i in range(5):\n",
    "    names=input(\"Enter name:\\n\")\n",
    "    arr.append(names)\n",
    "print(sorted(arr))"
   ]
  },
  {
   "cell_type": "code",
   "execution_count": 62,
   "metadata": {},
   "outputs": [
    {
     "name": "stdout",
     "output_type": "stream",
     "text": [
      "Enter number:8756\n",
      "26\n"
     ]
    }
   ],
   "source": [
    "#ques7\n",
    "#Write a program to calculate the sum of digits of a given number.\n",
    "number=(input(\"Enter number:\"))\n",
    "number=[int(i) for i in str(number)]\n",
    "print(sum(number))"
   ]
  },
  {
   "cell_type": "code",
   "execution_count": 64,
   "metadata": {},
   "outputs": [
    {
     "name": "stdout",
     "output_type": "stream",
     "text": [
      "a= 6 b= 5\n"
     ]
    }
   ],
   "source": [
    "#ques8\n",
    "#Write a program to swap the values of two variables using Call by Reference.\n",
    "a=5\n",
    "b=6\n",
    "c=a\n",
    "a=b\n",
    "b=c\n",
    "print(\"a=\",a,\"b=\",b)"
   ]
  },
  {
   "cell_type": "code",
   "execution_count": 76,
   "metadata": {},
   "outputs": [
    {
     "name": "stdout",
     "output_type": "stream",
     "text": [
      "enter number7612345\n",
      "12\n"
     ]
    }
   ],
   "source": [
    "#ques9\n",
    "#Write a program to calculate the sum of first digit and last digit of a given number\n",
    "numb=input(\"enter number\")\n",
    "numb1=[int(i) for i in str(numb)]\n",
    "print(numb1[0]+numb1[-1])"
   ]
  },
  {
   "cell_type": "code",
   "execution_count": null,
   "metadata": {},
   "outputs": [],
   "source": []
  }
 ],
 "metadata": {
  "kernelspec": {
   "display_name": "Python 3",
   "language": "python",
   "name": "python3"
  },
  "language_info": {
   "codemirror_mode": {
    "name": "ipython",
    "version": 3
   },
   "file_extension": ".py",
   "mimetype": "text/x-python",
   "name": "python",
   "nbconvert_exporter": "python",
   "pygments_lexer": "ipython3",
   "version": "3.8.5"
  }
 },
 "nbformat": 4,
 "nbformat_minor": 4
}
